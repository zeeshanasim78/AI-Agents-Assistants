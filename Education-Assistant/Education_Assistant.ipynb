{
  "nbformat": 4,
  "nbformat_minor": 0,
  "metadata": {
    "colab": {
      "provenance": []
    },
    "kernelspec": {
      "name": "python3",
      "display_name": "Python 3"
    },
    "language_info": {
      "name": "python"
    }
  },
  "cells": [
    {
      "cell_type": "markdown",
      "source": [
        "**Step # 1: Installing Required Libraries**\n",
        "\n",
        "---\n",
        "\n"
      ],
      "metadata": {
        "id": "8bt2nkAWmLIG"
      }
    },
    {
      "cell_type": "markdown",
      "source": [
        "**Education Assistant**\n",
        "---\n",
        "This is a Education Assistant that can answer questions from English , Math and Science subjects for School / College Students"
      ],
      "metadata": {
        "id": "wwwwNBXnsCoK"
      }
    },
    {
      "cell_type": "code",
      "source": [
        "# Installing the Required Libraries\n",
        "%%capture --no-stderr\n",
        "pip install langgraph langchain_core langchain_google_genai python-dotenv tavily-python langchain_community\n"
      ],
      "metadata": {
        "id": "yd7sNV5u484k"
      },
      "execution_count": null,
      "outputs": []
    },
    {
      "cell_type": "markdown",
      "source": [
        "**Step # 2: Importing Packages**\n",
        "\n",
        "---"
      ],
      "metadata": {
        "id": "wjdfDXUXUr5s"
      }
    },
    {
      "cell_type": "code",
      "source": [
        "# Importing Packages\n",
        "from typing import Dict, TypedDict\n",
        "from langgraph.graph import StateGraph, END, START\n",
        "from langchain_core.prompts import ChatPromptTemplate\n",
        "from langchain_google_genai import ChatGoogleGenerativeAI\n",
        "\n",
        "#########################################\n",
        "from langgraph.checkpoint.memory import MemorySaver\n",
        "#########################################\n",
        "\n",
        "# Importing Packages for the Image Display\n",
        "from IPython.display import display, Image\n",
        "from langchain_core.runnables.graph import MermaidDrawMethod\n",
        "from dotenv import load_dotenv\n",
        "import os\n",
        "\n",
        "\n",
        "from langgraph.graph.state import CompiledStateGraph"
      ],
      "metadata": {
        "id": "pdRVf0MX5-ck"
      },
      "execution_count": null,
      "outputs": []
    },
    {
      "cell_type": "markdown",
      "source": [
        "**Step # 3: Load Environment Variables and Set API Keys**\n",
        "\n",
        "---"
      ],
      "metadata": {
        "id": "gzESVLbGVXTt"
      }
    },
    {
      "cell_type": "code",
      "execution_count": null,
      "metadata": {
        "id": "1UvDRtgORENv"
      },
      "outputs": [],
      "source": [
        "# Load environment variables and set API key\n",
        "load_dotenv()\n",
        "\n",
        "from google.colab import userdata\n",
        "os.environ[\"GEMINI_API_KEY\"]=userdata.get('GEMINI_API_KEY')\n"
      ]
    },
    {
      "cell_type": "markdown",
      "source": [
        "**Step # 4 : Define State Structure**\n",
        "\n",
        "---"
      ],
      "metadata": {
        "id": "UVvL7MUnNlgn"
      }
    },
    {
      "cell_type": "code",
      "execution_count": null,
      "metadata": {
        "id": "NTaW6WZGSPoR"
      },
      "outputs": [],
      "source": [
        "# Define State Structure\n",
        "from typing_extensions import Annotated\n",
        "from langgraph.graph import add_messages\n",
        "from langchain_core.messages import AnyMessage\n",
        "\n",
        "class State(TypedDict):\n",
        "    query: str\n",
        "    category: str\n",
        "    response: str\n",
        "    messages: Annotated[list[AnyMessage], add_messages]\n",
        "\n",
        "#######################################\n",
        "#    query: str\n",
        "#    category: str\n",
        "#    response: str\n",
        "#    messages: Annotated[list[AnyMessage], add_messages]\n",
        "######################################\n"
      ]
    },
    {
      "cell_type": "markdown",
      "source": [
        "**Memory Persistance**\n",
        "-------------------\n",
        "LangGraph implements a built-in persistence layer, making it ideal for chat applications that support multiple conversational turns. LangGraph comes with a simple in-memory checkpointer, which is *MemorySaver*. It is an in-memory checkpoint saver to stores checkpoints in memory using a defaultdict.\n",
        "\n",
        "**Note:**\n",
        "Only use *MemorySaver* for debugging or testing purposes. For production it is recommended to use different persistence backends e.g., SQLite or Postgres. For example we can use langgraph-checkpoint-postgres and using PostgresSaver / AsyncPostgresSaver for Postgres database."
      ],
      "metadata": {
        "id": "vz_bZvGeD2fY"
      }
    },
    {
      "cell_type": "code",
      "source": [
        "\n",
        "memory: MemorySaver = MemorySaver()\n",
        "\n",
        "# Specify a thread\n",
        "config1 = {\"configurable\": {\"thread_id\": \"1\"}}"
      ],
      "metadata": {
        "id": "0PlJMv9BD1Tq"
      },
      "execution_count": null,
      "outputs": []
    },
    {
      "cell_type": "markdown",
      "source": [
        "**Step # 5 : Define Function Nodes**\n",
        "\n",
        "---"
      ],
      "metadata": {
        "id": "WOQTMVPoV_Zh"
      }
    },
    {
      "cell_type": "code",
      "execution_count": null,
      "metadata": {
        "id": "zI1ww3HtSPoS"
      },
      "outputs": [],
      "source": [
        "#  Define the functions/nodes\n",
        "def categorize(state: State) -> State:\n",
        "    \"\"\"Categorize the user query into English, Math or Science.\"\"\"\n",
        "    prompt = ChatPromptTemplate.from_template(\n",
        "        \"Categorize the following user query into one of these categories: \"\n",
        "        \"English, Math or Science. Query: {query}\"\n",
        "    )\n",
        "    chain = prompt | ChatGoogleGenerativeAI(temperature=0,model=\"gemini-2.0-flash-exp\",api_key=userdata.get('GEMINI_API_KEY'))\n",
        "    category = chain.invoke({\"query\": state[\"query\"]},config1).content\n",
        "    return {\"category\": category}\n",
        "\n",
        "def handle_english(state: State) -> State:\n",
        "    \"\"\"Provide a English Language related response to the query.\"\"\"\n",
        "    prompt = ChatPromptTemplate.from_template(\n",
        "        \"Provide a english language related response to the following user query: {query}\"\n",
        "    )\n",
        "    chain = prompt | ChatGoogleGenerativeAI(temperature=0,model=\"gemini-2.0-flash-exp\",api_key=userdata.get('GEMINI_API_KEY'))\n",
        "    response = chain.invoke({\"query\": state[\"query\"]},config1).content\n",
        "    return {\"response\": response}\n",
        "\n",
        "def handle_math(state: State) -> State:\n",
        "    \"\"\"Provide a Math related response to the query.\"\"\"\n",
        "    prompt = ChatPromptTemplate.from_template(\n",
        "        \"Provide a Math related response to the following user query: {query}\"\n",
        "    )\n",
        "    chain = prompt | ChatGoogleGenerativeAI(temperature=0,model=\"gemini-2.0-flash-exp\",api_key=userdata.get('GEMINI_API_KEY'))\n",
        "    response = chain.invoke({\"query\": state[\"query\"]},config1).content\n",
        "    return {\"response\": response}\n",
        "\n",
        "def handle_science(state: State) -> State:\n",
        "    \"\"\"Provide a Science related to the query.\"\"\"\n",
        "    prompt = ChatPromptTemplate.from_template(\n",
        "        \"Provide a Science related response to the following user query: {query}\"\n",
        "    )\n",
        "    chain = prompt | ChatGoogleGenerativeAI(temperature=0,model=\"gemini-2.0-flash-exp\",api_key=userdata.get('GEMINI_API_KEY'))\n",
        "    response = chain.invoke({\"query\": state[\"query\"]},config1).content\n",
        "    return {\"response\": response}\n",
        "\n",
        "def route_query(state: State) -> str:\n",
        "    \"\"\"Route the query based on its category.\"\"\"\n",
        "    if state[\"category\"] == \"English\":\n",
        "        return \"handle_english\"\n",
        "    elif state[\"category\"] == \"Math\":\n",
        "        return \"handle_math\"\n",
        "    else:\n",
        "        return \"handle_science\""
      ]
    },
    {
      "cell_type": "markdown",
      "source": [
        "**Step # 6 : Define Graph , Add Nodes , Specify Route and Compile Graph**\n",
        "\n",
        "---"
      ],
      "metadata": {
        "id": "zmApAbw6WOMB"
      }
    },
    {
      "cell_type": "code",
      "execution_count": null,
      "metadata": {
        "id": "8iatm81_SPoT"
      },
      "outputs": [],
      "source": [
        "# Create the graph\n",
        "graph = StateGraph(State)\n",
        "\n",
        "# Add nodes\n",
        "graph.add_node(\"categorize\", categorize)\n",
        "graph.add_node(\"handle_english\", handle_english)\n",
        "graph.add_node(\"handle_math\", handle_math)\n",
        "graph.add_node(\"handle_science\", handle_science)\n",
        "\n",
        "\n",
        "# Add edges\n",
        "graph.add_edge(START, \"categorize\")\n",
        "graph.add_conditional_edges(\n",
        "    \"categorize\",\n",
        "    route_query,\n",
        "    {\n",
        "        \"handle_english\": \"handle_english\",\n",
        "        \"handle_math\": \"handle_math\",\n",
        "        \"handle_science\": \"handle_science\",\n",
        "    }\n",
        ")\n",
        "graph.add_edge(\"handle_english\", END)\n",
        "graph.add_edge(\"handle_math\", END)\n",
        "graph.add_edge(\"handle_science\", END)\n",
        "\n",
        "\n",
        "\n",
        "app: CompiledStateGraph = graph.compile(checkpointer=memory)\n",
        "\n"
      ]
    },
    {
      "cell_type": "markdown",
      "source": [
        "**Step # 7 : Display Graph / Visual Representation**\n",
        "\n",
        "---"
      ],
      "metadata": {
        "id": "ae4kGUSqWja4"
      }
    },
    {
      "cell_type": "code",
      "execution_count": null,
      "metadata": {
        "colab": {
          "base_uri": "https://localhost:8080/",
          "height": 350
        },
        "id": "OcJBZNuKSPoT",
        "outputId": "0909abfa-5edb-436c-cdef-a9aee81addaf"
      },
      "outputs": [
        {
          "output_type": "display_data",
          "data": {
            "image/png": "[encoded data removed]",
            "text/plain": [
              "<IPython.core.display.Image object>"
            ]
          },
          "metadata": {}
        }
      ],
      "source": [
        "display(\n",
        "    Image(\n",
        "        app.get_graph().draw_mermaid_png(\n",
        "            draw_method=MermaidDrawMethod.API,\n",
        "        )\n",
        "    )\n",
        ")"
      ]
    },
    {
      "cell_type": "markdown",
      "source": [
        "**Step # 8 : Define Function To Test the Graph Working**\n",
        "\n",
        "---"
      ],
      "metadata": {
        "id": "vRvxVZByWui8"
      }
    },
    {
      "cell_type": "code",
      "source": [
        "# Define Function to Test the Working\n",
        "\n",
        "\n",
        "def run_test_function(query: str) -> Dict[str, str]:\n",
        "    \"\"\"Process User query through the LLM and LangGraph .\n",
        "\n",
        "    Args:\n",
        "        query (str): The user's query\n",
        "\n",
        "    Returns:\n",
        "        Dict[str, str]: A dictionary containing the query's Category and Response\n",
        "    \"\"\"\n",
        "    results = app.invoke({\"query\": query},config1)\n",
        "\n",
        "    return {\n",
        "        \"category\": results[\"category\"],\n",
        "        \"response\": results[\"response\"]\n",
        "    }\n"
      ],
      "metadata": {
        "id": "DbMyFPUc8-Ld"
      },
      "execution_count": null,
      "outputs": []
    },
    {
      "cell_type": "markdown",
      "source": [
        "**Step # 9 : Define the Program that takes Continous Inputs and Process User Query**\n",
        "\n",
        "---"
      ],
      "metadata": {
        "id": "e4mdrfGmW3ES"
      }
    },
    {
      "cell_type": "code",
      "source": [
        "# Define the Program to take user inputs till user types exit\n",
        "def main():\n",
        "    while True:\n",
        "        query = input(\"Please enter your query (or type 'exit' to quit): \")\n",
        "        if query.lower() == 'exit':\n",
        "            print(\"Goodbye!\")\n",
        "            break\n",
        "\n",
        "        result = run_test_function(query)\n",
        "        print(f\"Query: {query}\")\n",
        "        print(f\"Category: {result['category']}\")\n",
        "        print(f\"Response: {result['response']}\")\n",
        "        print(\"\\n\")\n",
        "\n",
        "if __name__ == \"__main__\":\n",
        "    main()\n"
      ],
      "metadata": {
        "colab": {
          "base_uri": "https://localhost:8080/"
        },
        "id": "4hPjIk5S9fu1",
        "outputId": "9bc1074d-3595-4e32-bf56-e1dda90c0eba"
      },
      "execution_count": null,
      "outputs": [
        {
          "output_type": "stream",
          "name": "stdout",
          "text": [
            "Query: What is gravity\n",
            "Category: **Science**\n",
            "Response: Okay, let's break down gravity from a scientific perspective.\n",
            "\n",
            "**Gravity: A Fundamental Force**\n",
            "\n",
            "Gravity is one of the four fundamental forces in the universe (the others being electromagnetism, the strong nuclear force, and the weak nuclear force). It's the force of attraction between any two objects with mass. This means that *everything* with mass exerts a gravitational pull on everything else with mass.\n",
            "\n",
            "**Key Concepts:**\n",
            "\n",
            "* **Mass:** The amount of \"stuff\" an object is made of. The more mass an object has, the stronger its gravitational pull.\n",
            "* **Attraction:** Gravity is always an attractive force; it pulls objects together, never pushes them apart.\n",
            "* **Distance:** The strength of gravity decreases rapidly with distance. The farther apart two objects are, the weaker the gravitational force between them.\n",
            "\n",
            "**Newton's Law of Universal Gravitation:**\n",
            "\n",
            "Sir Isaac Newton formulated a law that describes the gravitational force between two objects:\n",
            "\n",
            "* **F = G * (m1 * m2) / r²**\n",
            "\n",
            "Where:\n",
            "\n",
            "* **F** is the force of gravity.\n",
            "* **G** is the gravitational constant (a very small number, approximately 6.674 × 10⁻¹¹ N(m/kg)²).\n",
            "* **m1** and **m2** are the masses of the two objects.\n",
            "* **r** is the distance between the centers of the two objects.\n",
            "\n",
            "This equation tells us:\n",
            "\n",
            "* The force of gravity is directly proportional to the product of the masses (more mass, more force).\n",
            "* The force of gravity is inversely proportional to the square of the distance (more distance, much less force).\n",
            "\n",
            "**Einstein's Theory of General Relativity:**\n",
            "\n",
            "While Newton's law is very accurate for most everyday situations, it doesn't fully explain gravity in extreme conditions (like near black holes or at very high speeds). Albert Einstein's theory of General Relativity provides a more complete picture:\n",
            "\n",
            "* **Gravity as Curvature of Spacetime:** Instead of thinking of gravity as a force, Einstein described it as the curvature of spacetime caused by mass and energy. Imagine a bowling ball placed on a stretched rubber sheet; it creates a dip. Objects moving near that dip will follow a curved path, as if they are being pulled towards the bowling ball. This is analogous to how massive objects warp spacetime, causing other objects to move towards them.\n",
            "* **Geodesics:** Objects move along the \"straightest\" possible path in curved spacetime, which we perceive as the effect of gravity. These paths are called geodesics.\n",
            "\n",
            "**Why We Experience Gravity on Earth:**\n",
            "\n",
            "* The Earth has a very large mass, which creates a significant gravitational pull.\n",
            "* This pull is what keeps us grounded, causes objects to fall towards the Earth, and keeps the Moon in orbit.\n",
            "\n",
            "**Key Takeaways:**\n",
            "\n",
            "* Gravity is a fundamental force of attraction between objects with mass.\n",
            "* Newton's Law of Universal Gravitation provides a good approximation for most situations.\n",
            "* Einstein's General Relativity offers a more complete understanding of gravity as the curvature of spacetime.\n",
            "* Gravity is responsible for many phenomena in the universe, from the falling of an apple to the formation of galaxies.\n",
            "\n",
            "**In simpler terms:**\n",
            "\n",
            "Imagine everything with \"stuff\" (mass) is like a magnet, but instead of attracting metal, it attracts everything else with \"stuff.\" The more \"stuff\" something has, the stronger its pull. And the farther away things are, the weaker the pull.\n",
            "\n",
            "Hopefully, this explanation provides a good scientific understanding of gravity! Let me know if you have any more questions.\n",
            "\n",
            "\n",
            "Query: What is quadratic Equation\n",
            "Category: **Math**\n",
            "Response: Okay, let's break down the quadratic equation from a scientific perspective.\n",
            "\n",
            "**What is a Quadratic Equation?**\n",
            "\n",
            "In essence, a quadratic equation is a polynomial equation of the second degree. This means the highest power of the variable (usually denoted as 'x') is 2.  It's a fundamental concept in algebra and has wide applications in various scientific fields.\n",
            "\n",
            "**The Standard Form:**\n",
            "\n",
            "The standard form of a quadratic equation is:\n",
            "\n",
            "   **ax² + bx + c = 0**\n",
            "\n",
            "Where:\n",
            "\n",
            "*   **x** is the variable (the unknown we're trying to solve for).\n",
            "*   **a**, **b**, and **c** are coefficients, which are constants.\n",
            "*   **a** cannot be zero (if a=0, it becomes a linear equation).\n",
            "\n",
            "**Why is it Important in Science?**\n",
            "\n",
            "Quadratic equations are not just abstract mathematical concepts; they appear frequently in modeling real-world phenomena. Here are some examples:\n",
            "\n",
            "1.  **Projectile Motion:**\n",
            "    *   The path of a projectile (like a ball thrown in the air) is described by a parabola, which is mathematically represented by a quadratic equation. The equation can relate the projectile's height to its horizontal distance or time.\n",
            "    *   For example, the vertical position (y) of a projectile under the influence of gravity can be approximated by:  `y = -0.5gt² + v₀t + y₀` where g is the acceleration due to gravity, v₀ is the initial vertical velocity, and y₀ is the initial vertical position. This is a quadratic equation in terms of time (t).\n",
            "\n",
            "2.  **Area and Geometry:**\n",
            "    *   Calculating the area of a rectangle or square often involves quadratic relationships. For example, if you have a rectangle with a length that is a function of a variable, the area will be a quadratic function of that variable.\n",
            "    *   The surface area of a sphere or cylinder can also involve quadratic terms.\n",
            "\n",
            "3.  **Optimization Problems:**\n",
            "    *   Many optimization problems in physics and engineering involve finding the maximum or minimum value of a function. Quadratic functions have a single maximum or minimum (vertex), which can be found using techniques like completing the square or using the vertex formula.\n",
            "    *   For example, finding the maximum height of a projectile or the minimum energy state of a system.\n",
            "\n",
            "4.  **Electrical Circuits:**\n",
            "    *   In some electrical circuits, the relationship between current, voltage, and resistance can be described by quadratic equations. For example, power dissipation in a resistor is proportional to the square of the current.\n",
            "\n",
            "5.  **Kinetic Energy:**\n",
            "    *   The kinetic energy of an object is given by the equation KE = 1/2 mv², where m is the mass and v is the velocity. This is a quadratic relationship between kinetic energy and velocity.\n",
            "\n",
            "**Solving Quadratic Equations:**\n",
            "\n",
            "There are several methods to solve for the values of 'x' that satisfy a quadratic equation (i.e., the roots or solutions):\n",
            "\n",
            "1.  **Factoring:** If the quadratic expression can be factored into two linear expressions, the roots can be found by setting each factor to zero.\n",
            "2.  **Completing the Square:** This method involves manipulating the equation to create a perfect square trinomial, which can then be solved.\n",
            "3.  **Quadratic Formula:** The most general method, the quadratic formula provides the roots for any quadratic equation:\n",
            "\n",
            "    **x = [-b ± √(b² - 4ac)] / 2a**\n",
            "\n",
            "    *   The term inside the square root, **b² - 4ac**, is called the discriminant. It determines the nature of the roots:\n",
            "        *   If b² - 4ac > 0, there are two distinct real roots.\n",
            "        *   If b² - 4ac = 0, there is one real root (a repeated root).\n",
            "        *   If b² - 4ac < 0, there are two complex roots.\n",
            "\n",
            "**In Summary:**\n",
            "\n",
            "The quadratic equation is a powerful mathematical tool that arises naturally in many scientific contexts. Its ability to model parabolic relationships, optimization problems, and other phenomena makes it a cornerstone of scientific analysis and problem-solving. Understanding the structure of the equation and the methods for solving it is crucial for anyone working in science, engineering, or related fields.\n",
            "\n",
            "\n",
            "Query: Please add 5 with 61\n",
            "Category: Math\n",
            "Response: Okay! Adding 5 to 61 gives you **66**. \n",
            "\n",
            "So, 5 + 61 = 66\n",
            "\n",
            "\n",
            "Query: Now divide the result with 11\n",
            "Category: Math\n",
            "Response: Okay, I understand. To give you a math-related response, I need to know **what the \"result\" is that you're referring to.** \n",
            "\n",
            "Please provide the number or expression that you want to divide by 11. \n",
            "\n",
            "For example, you could say:\n",
            "\n",
            "*   \"Now divide **22** by 11\"\n",
            "*   \"Now divide **the result of 50 + 5** by 11\"\n",
            "*   \"Now divide **x** by 11\"\n",
            "\n",
            "Once you give me the number or expression, I can perform the division and give you the answer.\n",
            "\n",
            "**In general, dividing a number 'a' by 11 can be represented as:**\n",
            "\n",
            "*   **a / 11** \n",
            "*   **a ÷ 11**\n",
            "*   **a/11**\n",
            "\n",
            "I'm ready when you are! Just let me know what you want to divide by 11.\n",
            "\n",
            "\n",
            "Please enter your query (or type 'exit' to quit): exit\n",
            "Goodbye!\n"
          ]
        }
      ]
    },
    {
      "cell_type": "markdown",
      "source": [],
      "metadata": {
        "id": "_vYcmAMrRm1Q"
      }
    }
  ]
}